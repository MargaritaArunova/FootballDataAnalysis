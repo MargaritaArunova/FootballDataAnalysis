{
 "cells": [
  {
   "cell_type": "markdown",
   "metadata": {},
   "source": [
    "# Expected Pass (xP)"
   ]
  },
  {
   "cell_type": "markdown",
   "metadata": {},
   "source": [
    "Импортируем нужные библиотеки"
   ]
  },
  {
   "cell_type": "code",
   "execution_count": 17,
   "metadata": {},
   "outputs": [
    {
     "name": "stdout",
     "output_type": "stream",
     "text": [
      "Populating the interactive namespace from numpy and matplotlib\n"
     ]
    }
   ],
   "source": [
    "import warnings\n",
    "warnings.filterwarnings('ignore')\n",
    "\n",
    "import os\n",
    "import pandas as pd\n",
    "import numpy as np\n",
    "import sklearn as skl\n",
    "from matplotlib import pylab as plot\n",
    "%pylab inline\n",
    "\n",
    "import xgboost as xgb\n",
    "from xgboost.sklearn import XGBClassifier"
   ]
  },
  {
   "cell_type": "markdown",
   "metadata": {},
   "source": [
    "Загружаем данные для обучения и для предсказания"
   ]
  },
  {
   "cell_type": "code",
   "execution_count": 19,
   "metadata": {},
   "outputs": [
    {
     "data": {
      "text/plain": [
       "(1335409, 276815)"
      ]
     },
     "execution_count": 19,
     "metadata": {},
     "output_type": "execute_result"
    }
   ],
   "source": [
    "data = pd.read_csv('data/df_events_epl_train.csv')\n",
    "data_for_prediction = pd.read_csv('data/df_events_bundes_test.csv')\n",
    "len(data), len(data_for_prediction)"
   ]
  },
  {
   "cell_type": "markdown",
   "metadata": {},
   "source": [
    "### Обработка данных"
   ]
  },
  {
   "cell_type": "markdown",
   "metadata": {},
   "source": [
    "Преобразуем данные перед обучением"
   ]
  },
  {
   "cell_type": "code",
   "execution_count": 20,
   "metadata": {},
   "outputs": [],
   "source": [
    "# process train data before fitting\n",
    "def process_train_data(df):\n",
    "    # drop data with specific pass_outcome_name and pass_type_name\n",
    "    df.drop(df[df['pass_outcome_name'].isin(['Pass Offside', \n",
    "                                             'Injury Clearance', \n",
    "                                             'Unknown'])].index, inplace=True)\n",
    "    df.drop(df[df['pass_outcome_name'].isin(['Kick Off',\n",
    "                                             'Throw-in', \n",
    "                                             'Goal Kick',\n",
    "                                             'Free Kick', \n",
    "                                             'Corner'])].index, inplace=True)\n",
    "    # drop data with non-pass action\n",
    "    df = df[df['type_name'] == 'Pass']\n",
    "    # drop data with incorrect pass outcome\n",
    "    df.dropna(subset=['outcome_binary'], inplace=True)\n",
    "    \n",
    "    # take only useful for building model columns\n",
    "    df = df[['location_0',\n",
    "             'location_1',\n",
    "             'pass_end_location_0',\n",
    "             'pass_end_location_1',\n",
    "             'pass_length',\n",
    "             'pass_angle',\n",
    "             'pass_height_name',\n",
    "             'pass_body_part_name',\n",
    "             'duration',\n",
    "             'under_pressure',\n",
    "             'outcome_binary']]\n",
    "    return df\n",
    "\n",
    "\n",
    "data = process_train_data(data)"
   ]
  },
  {
   "cell_type": "markdown",
   "metadata": {},
   "source": [
    "Делим данные для обучения на обучающую и тренировочную выборку"
   ]
  },
  {
   "cell_type": "code",
   "execution_count": 27,
   "metadata": {},
   "outputs": [
    {
     "data": {
      "text/plain": [
       "(378181, 378181)"
      ]
     },
     "execution_count": 27,
     "metadata": {},
     "output_type": "execute_result"
    }
   ],
   "source": [
    "# split data on features and targets\n",
    "X = data[['location_0',\n",
    "          'location_1',\n",
    "          'pass_end_location_0',\n",
    "          'pass_end_location_1',\n",
    "          'pass_length',\n",
    "          'pass_angle',\n",
    "          'pass_height_name',\n",
    "          'pass_body_part_name',\n",
    "          'duration',\n",
    "          'under_pressure']]\n",
    "y = data[['outcome_binary']]\n",
    "\n",
    "# one-hot encoding\n",
    "X = pd.get_dummies(X)\n",
    "\n",
    "# add passing speed\n",
    "X['pass_speed'] = X.apply(lambda x: x['pass_length'] / x['duration'], axis=1)\n",
    "\n",
    "\n",
    "len(X), len(y)"
   ]
  },
  {
   "cell_type": "code",
   "execution_count": 28,
   "metadata": {},
   "outputs": [
    {
     "data": {
      "text/plain": [
       "(302544, 302544, 75637, 75637)"
      ]
     },
     "execution_count": 28,
     "metadata": {},
     "output_type": "execute_result"
    }
   ],
   "source": [
    "from sklearn.model_selection import train_test_split\n",
    "\n",
    "# split data on train and test sets\n",
    "X_train, X_test, y_train, y_test = train_test_split(X, y, train_size=0.8, random_state=777)\n",
    "len(X_train), len(y_train), len(X_test), len(y_test)"
   ]
  },
  {
   "cell_type": "markdown",
   "metadata": {},
   "source": [
    "### Обучение модели"
   ]
  },
  {
   "cell_type": "markdown",
   "metadata": {},
   "source": [
    "Функция, выполняющая обучение"
   ]
  },
  {
   "cell_type": "code",
   "execution_count": 45,
   "metadata": {},
   "outputs": [],
   "source": [
    "from sklearn import metrics\n",
    "\n",
    "def modelfit(alg, X_train, y_train, X_test, y_test, \n",
    "             cross_validation=True, cv_folds=5, early_stopping_rounds=50):\n",
    "    \n",
    "    if cross_validation:\n",
    "        xgb_param = alg.get_xgb_params()\n",
    "        xg_train = xgb.DMatrix(X_train.values, label=y_train.values)\n",
    "        xg_test = xgb.DMatrix(X_test.values)\n",
    "        # cross-validation\n",
    "        cv_result = xgb.cv(xgb_param, xg_train, \n",
    "                          num_boost_round=alg.get_params()['n_estimators'], \n",
    "                          nfold=cv_folds,\n",
    "                          metrics='auc', \n",
    "                          early_stopping_rounds=early_stopping_rounds)\n",
    "        alg.set_params(n_estimators=cv_result.shape[0])\n",
    "    \n",
    "    # fit the algorithm on the data\n",
    "    alg.fit(X_train, y_train, eval_metric='auc')\n",
    "        \n",
    "    # predict training set\n",
    "    dtrain_predictions = alg.predict(X_train)\n",
    "    dtrain_predprob = alg.predict_proba(X_train)[:, 1]\n",
    "        \n",
    "    # print model report\n",
    "    print(\"\\nModel Report\")\n",
    "    print(\"Accuracy : %.4g\" % metrics.accuracy_score(y_train.values, dtrain_predictions))\n",
    "    print(\"AUC Score (Train): %f\" % metrics.roc_auc_score(y_train, dtrain_predprob))\n",
    "    \n",
    "    # predict on testing data\n",
    "    prediction = alg.predict_proba(X_test)[:, 1]\n",
    "    print('AUC Score (Test): %f' % metrics.roc_auc_score(y_test, prediction))\n",
    "    \n",
    "    # feature importance\n",
    "    feat_imp = pd.Series(alg.get_booster().get_fscore()).sort_values(ascending=False)\n",
    "    feat_imp.plot(kind='bar', title='Feature Importances')\n",
    "    plt.ylabel('Feature Importance Score')"
   ]
  },
  {
   "cell_type": "markdown",
   "metadata": {},
   "source": [
    "Подбираем параметры: так как выборка несбалансированная нужно установить параметр `scale_pos_weight`"
   ]
  },
  {
   "cell_type": "code",
   "execution_count": 39,
   "metadata": {},
   "outputs": [],
   "source": [
    "weight_balance = len(y_train[y_train['outcome_binary'] == 0]) / len(y_train[y_train['outcome_binary'] == 1])"
   ]
  },
  {
   "cell_type": "markdown",
   "metadata": {},
   "source": [
    "Ниже представлены 3 модели, на которых при подборе гиперпараметров были наибольшие точности. Наибольшую точность даёт модель `xgb1`"
   ]
  },
  {
   "cell_type": "code",
   "execution_count": 40,
   "metadata": {},
   "outputs": [
    {
     "name": "stdout",
     "output_type": "stream",
     "text": [
      "\n",
      "Model Report\n",
      "Accuracy : 0.8756\n",
      "AUC Score (Train): 0.950524\n",
      "AUC Score (Test): 0.935718\n"
     ]
    },
    {
     "data": {
      "image/png": "[encoded data removed]",
      "text/plain": [
       "<Figure size 432x288 with 1 Axes>"
      ]
     },
     "metadata": {
      "needs_background": "light"
     },
     "output_type": "display_data"
    }
   ],
   "source": [
    "xgb0 = XGBClassifier(\n",
    "        learning_rate=0.05,\n",
    "        max_depth=10, # depth of trees\n",
    "        n_estimators=150, # amount of trees\n",
    "        objective='binary:logistic', # binary function\n",
    "        scale_pos_weight=weight_balance, # balance of positive and negative weights\n",
    "        subsample=0.8, # subsample ratio of the training instances\n",
    "        seed=77\n",
    ")\n",
    "modelfit(xgb0, X_train, y_train, X_test, y_test)"
   ]
  },
  {
   "cell_type": "code",
   "execution_count": 49,
   "metadata": {},
   "outputs": [
    {
     "name": "stdout",
     "output_type": "stream",
     "text": [
      "\n",
      "Model Report\n",
      "Accuracy : 0.8842\n",
      "AUC Score (Train): 0.958650\n",
      "AUC Score (Test): 0.935774\n"
     ]
    },
    {
     "data": {
      "image/png": "[encoded data removed]",
      "text/plain": [
       "<Figure size 432x288 with 1 Axes>"
      ]
     },
     "metadata": {
      "needs_background": "light"
     },
     "output_type": "display_data"
    }
   ],
   "source": [
    "xgb1 = XGBClassifier(\n",
    "        learning_rate=0.05,\n",
    "        max_depth=10, # depth of trees\n",
    "        n_estimators=300, # amount of trees\n",
    "        objective='binary:logistic', # binary function\n",
    "        scale_pos_weight=weight_balance, # balance of positive and negative weights\n",
    "        subsample=0.8, # subsample ratio of the training instances\n",
    "        seed=77\n",
    ")\n",
    "modelfit(xgb1, X_train, y_train, X_test, y_test)"
   ]
  },
  {
   "cell_type": "code",
   "execution_count": 59,
   "metadata": {},
   "outputs": [
    {
     "name": "stdout",
     "output_type": "stream",
     "text": [
      "\n",
      "Model Report\n",
      "Accuracy : 0.871\n",
      "AUC Score (Train): 0.945815\n",
      "AUC Score (Test): 0.936014\n"
     ]
    },
    {
     "data": {
      "image/png": "[encoded data removed]",
      "text/plain": [
       "<Figure size 432x288 with 1 Axes>"
      ]
     },
     "metadata": {
      "needs_background": "light"
     },
     "output_type": "display_data"
    }
   ],
   "source": [
    "xgb2 = XGBClassifier(\n",
    "        learning_rate=0.01,\n",
    "        max_depth=8, # depth of trees\n",
    "        n_estimators=1000, # amount of trees\n",
    "        objective='binary:logistic', # binary function\n",
    "        scale_pos_weight=weight_balance, # balance of positive and negative weights\n",
    "        subsample=0.7, # subsample ratio of the training instances\n",
    "        seed=77\n",
    ")\n",
    "modelfit(xgb2, X_train, y_train, X_test, y_test)"
   ]
  },
  {
   "cell_type": "markdown",
   "metadata": {},
   "source": [
    "### Получение предсказания"
   ]
  },
  {
   "cell_type": "code",
   "execution_count": 64,
   "metadata": {},
   "outputs": [
    {
     "data": {
      "text/plain": [
       "68149"
      ]
     },
     "execution_count": 64,
     "metadata": {},
     "output_type": "execute_result"
    }
   ],
   "source": [
    "data_for_id = pd.read_csv('data/sample_submission.csv')\n",
    "data_for_prediction = data_for_prediction[data_for_prediction['id'].isin(data_for_id['id'])]\n",
    "\n",
    "X_pred = data_for_prediction[[\n",
    "    'location_0',\n",
    "    'location_1',\n",
    "    'pass_end_location_0',\n",
    "    'pass_end_location_1',\n",
    "    'pass_length',\n",
    "    'pass_angle',\n",
    "    'pass_height_name',\n",
    "    'pass_body_part_name',\n",
    "    'duration',\n",
    "    'under_pressure']]\n",
    "X_pred = pd.get_dummies(X_pred)\n",
    "X_pred['pass_speed'] = X_pred.apply(lambda x: x['pass_length'] / x['duration'], axis=1)\n",
    "\n",
    "predict = xgb1.predict_proba(X_pred)[:, 1]\n",
    "\n",
    "len(predict)"
   ]
  },
  {
   "cell_type": "code",
   "execution_count": 65,
   "metadata": {},
   "outputs": [
    {
     "data": {
      "text/html": [
       "<div>\n",
       "<style scoped>\n",
       "    .dataframe tbody tr th:only-of-type {\n",
       "        vertical-align: middle;\n",
       "    }\n",
       "\n",
       "    .dataframe tbody tr th {\n",
       "        vertical-align: top;\n",
       "    }\n",
       "\n",
       "    .dataframe thead th {\n",
       "        text-align: right;\n",
       "    }\n",
       "</style>\n",
       "<table border=\"1\" class=\"dataframe\">\n",
       "  <thead>\n",
       "    <tr style=\"text-align: right;\">\n",
       "      <th></th>\n",
       "      <th>id</th>\n",
       "      <th>outcome_binary</th>\n",
       "    </tr>\n",
       "  </thead>\n",
       "  <tbody>\n",
       "    <tr>\n",
       "      <th>7</th>\n",
       "      <td>9026a8bb-8fd6-4b44-b2aa-28356a8950e9</td>\n",
       "      <td>0.112681</td>\n",
       "    </tr>\n",
       "    <tr>\n",
       "      <th>12</th>\n",
       "      <td>e4e7f3d3-1529-48a8-824e-43ff2d13fbe3</td>\n",
       "      <td>0.644841</td>\n",
       "    </tr>\n",
       "    <tr>\n",
       "      <th>15</th>\n",
       "      <td>03cfd6b9-06c2-4597-bab3-baf1df24ab5a</td>\n",
       "      <td>0.189219</td>\n",
       "    </tr>\n",
       "    <tr>\n",
       "      <th>17</th>\n",
       "      <td>72a34c8a-203a-41bc-93e0-b830485c07ef</td>\n",
       "      <td>0.679029</td>\n",
       "    </tr>\n",
       "    <tr>\n",
       "      <th>21</th>\n",
       "      <td>18afe4b5-1e64-41a4-8f7a-96c5bb761450</td>\n",
       "      <td>0.009531</td>\n",
       "    </tr>\n",
       "    <tr>\n",
       "      <th>...</th>\n",
       "      <td>...</td>\n",
       "      <td>...</td>\n",
       "    </tr>\n",
       "    <tr>\n",
       "      <th>276793</th>\n",
       "      <td>d134dff0-e453-42bc-a42d-342b3f12f526</td>\n",
       "      <td>0.975305</td>\n",
       "    </tr>\n",
       "    <tr>\n",
       "      <th>276796</th>\n",
       "      <td>9f9d3d38-20c0-46f6-9c97-5b423de13166</td>\n",
       "      <td>0.863834</td>\n",
       "    </tr>\n",
       "    <tr>\n",
       "      <th>276799</th>\n",
       "      <td>8345f6cb-7f8b-4034-bd75-ca49b3a16bd5</td>\n",
       "      <td>0.991653</td>\n",
       "    </tr>\n",
       "    <tr>\n",
       "      <th>276803</th>\n",
       "      <td>a6df9cad-b750-4bdf-8c19-0d40476a52fe</td>\n",
       "      <td>0.045399</td>\n",
       "    </tr>\n",
       "    <tr>\n",
       "      <th>276810</th>\n",
       "      <td>7731c120-c9f7-464c-8d5d-7ad4dfac466b</td>\n",
       "      <td>0.013793</td>\n",
       "    </tr>\n",
       "  </tbody>\n",
       "</table>\n",
       "<p>68149 rows × 2 columns</p>\n",
       "</div>"
      ],
      "text/plain": [
       "                                          id  outcome_binary\n",
       "7       9026a8bb-8fd6-4b44-b2aa-28356a8950e9        0.112681\n",
       "12      e4e7f3d3-1529-48a8-824e-43ff2d13fbe3        0.644841\n",
       "15      03cfd6b9-06c2-4597-bab3-baf1df24ab5a        0.189219\n",
       "17      72a34c8a-203a-41bc-93e0-b830485c07ef        0.679029\n",
       "21      18afe4b5-1e64-41a4-8f7a-96c5bb761450        0.009531\n",
       "...                                      ...             ...\n",
       "276793  d134dff0-e453-42bc-a42d-342b3f12f526        0.975305\n",
       "276796  9f9d3d38-20c0-46f6-9c97-5b423de13166        0.863834\n",
       "276799  8345f6cb-7f8b-4034-bd75-ca49b3a16bd5        0.991653\n",
       "276803  a6df9cad-b750-4bdf-8c19-0d40476a52fe        0.045399\n",
       "276810  7731c120-c9f7-464c-8d5d-7ad4dfac466b        0.013793\n",
       "\n",
       "[68149 rows x 2 columns]"
      ]
     },
     "execution_count": 65,
     "metadata": {},
     "output_type": "execute_result"
    }
   ],
   "source": [
    "result = pd.DataFrame({'id': data_for_prediction['id'], 'outcome_binary': predict})\n",
    "\n",
    "result"
   ]
  },
  {
   "cell_type": "code",
   "execution_count": 66,
   "metadata": {},
   "outputs": [
    {
     "data": {
      "text/html": [
       "<div>\n",
       "<style scoped>\n",
       "    .dataframe tbody tr th:only-of-type {\n",
       "        vertical-align: middle;\n",
       "    }\n",
       "\n",
       "    .dataframe tbody tr th {\n",
       "        vertical-align: top;\n",
       "    }\n",
       "\n",
       "    .dataframe thead th {\n",
       "        text-align: right;\n",
       "    }\n",
       "</style>\n",
       "<table border=\"1\" class=\"dataframe\">\n",
       "  <thead>\n",
       "    <tr style=\"text-align: right;\">\n",
       "      <th></th>\n",
       "      <th>id</th>\n",
       "      <th>outcome_binary</th>\n",
       "    </tr>\n",
       "  </thead>\n",
       "  <tbody>\n",
       "    <tr>\n",
       "      <th>30907</th>\n",
       "      <td>00008169-659b-46c5-be86-a15b8068ef05</td>\n",
       "      <td>0.013783</td>\n",
       "    </tr>\n",
       "    <tr>\n",
       "      <th>217239</th>\n",
       "      <td>0000c881-3d53-4c2f-86bb-542b653591ae</td>\n",
       "      <td>0.509599</td>\n",
       "    </tr>\n",
       "    <tr>\n",
       "      <th>142929</th>\n",
       "      <td>00010f78-4407-4e0c-b59e-a33f3b86af1f</td>\n",
       "      <td>0.928264</td>\n",
       "    </tr>\n",
       "    <tr>\n",
       "      <th>206533</th>\n",
       "      <td>000186c5-94e1-46ab-90b8-4b20ba319d1b</td>\n",
       "      <td>0.959541</td>\n",
       "    </tr>\n",
       "    <tr>\n",
       "      <th>140633</th>\n",
       "      <td>0002d42e-6214-48fa-ba7d-2ade486dcd27</td>\n",
       "      <td>0.034230</td>\n",
       "    </tr>\n",
       "    <tr>\n",
       "      <th>...</th>\n",
       "      <td>...</td>\n",
       "      <td>...</td>\n",
       "    </tr>\n",
       "    <tr>\n",
       "      <th>168732</th>\n",
       "      <td>fffbc079-230d-4eb6-b713-9509b07dd02d</td>\n",
       "      <td>0.761499</td>\n",
       "    </tr>\n",
       "    <tr>\n",
       "      <th>221509</th>\n",
       "      <td>fffce801-575e-4f51-8411-5fa1a338360d</td>\n",
       "      <td>0.566075</td>\n",
       "    </tr>\n",
       "    <tr>\n",
       "      <th>163765</th>\n",
       "      <td>fffd0d33-a248-4fc8-8ef0-edaa4d4cc217</td>\n",
       "      <td>0.930681</td>\n",
       "    </tr>\n",
       "    <tr>\n",
       "      <th>151643</th>\n",
       "      <td>fffd4e83-cae7-4146-8729-ab37a74f7e18</td>\n",
       "      <td>0.211819</td>\n",
       "    </tr>\n",
       "    <tr>\n",
       "      <th>88770</th>\n",
       "      <td>fffe5457-1374-48b2-98e6-cb7c5468d1ce</td>\n",
       "      <td>0.976317</td>\n",
       "    </tr>\n",
       "  </tbody>\n",
       "</table>\n",
       "<p>68149 rows × 2 columns</p>\n",
       "</div>"
      ],
      "text/plain": [
       "                                          id  outcome_binary\n",
       "30907   00008169-659b-46c5-be86-a15b8068ef05        0.013783\n",
       "217239  0000c881-3d53-4c2f-86bb-542b653591ae        0.509599\n",
       "142929  00010f78-4407-4e0c-b59e-a33f3b86af1f        0.928264\n",
       "206533  000186c5-94e1-46ab-90b8-4b20ba319d1b        0.959541\n",
       "140633  0002d42e-6214-48fa-ba7d-2ade486dcd27        0.034230\n",
       "...                                      ...             ...\n",
       "168732  fffbc079-230d-4eb6-b713-9509b07dd02d        0.761499\n",
       "221509  fffce801-575e-4f51-8411-5fa1a338360d        0.566075\n",
       "163765  fffd0d33-a248-4fc8-8ef0-edaa4d4cc217        0.930681\n",
       "151643  fffd4e83-cae7-4146-8729-ab37a74f7e18        0.211819\n",
       "88770   fffe5457-1374-48b2-98e6-cb7c5468d1ce        0.976317\n",
       "\n",
       "[68149 rows x 2 columns]"
      ]
     },
     "execution_count": 66,
     "metadata": {},
     "output_type": "execute_result"
    }
   ],
   "source": [
    "# sort the result in ascending order of id \n",
    "result = result.sort_values(by='id')\n",
    "result"
   ]
  },
  {
   "cell_type": "code",
   "execution_count": 67,
   "metadata": {},
   "outputs": [],
   "source": [
    "# save the prediction\n",
    "result.to_csv(\"prediction/prediction_probability.csv\", index=False)"
   ]
  }
 ],
 "metadata": {
  "kernelspec": {
   "display_name": "Python 3",
   "language": "python",
   "name": "python3"
  },
  "language_info": {
   "codemirror_mode": {
    "name": "ipython",
    "version": 3
   },
   "file_extension": ".py",
   "mimetype": "text/x-python",
   "name": "python",
   "nbconvert_exporter": "python",
   "pygments_lexer": "ipython3",
   "version": "3.9.0"
  }
 },
 "nbformat": 4,
 "nbformat_minor": 4
}
